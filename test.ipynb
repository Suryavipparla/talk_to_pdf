{
 "cells": [
  {
   "cell_type": "code",
   "execution_count": 36,
   "id": "dc3ef22c",
   "metadata": {},
   "outputs": [],
   "source": [
    "from langchain.document_loaders import DirectoryLoader,TextLoader,PyPDFLoader\n",
    "from langchain.text_splitter import CharacterTextSplitter\n",
    "from langchain.schema import Document\n",
    "from langchain_chroma import Chroma\n",
    "from langchain.memory import ConversationBufferMemory\n",
    "from langchain.chains import ConversationalRetrievalChain\n",
    "from langchain.embeddings import HuggingFaceEmbeddings\n",
    "from langchain_ollama import ChatOllama\n",
    "from langchain.chains import RetrievalQA\n",
    "import gradio as gr\n",
    "import ollama \n",
    "import os\n",
    "import glob\n",
    "import shutil"
   ]
  },
  {
   "cell_type": "code",
   "execution_count": 37,
   "id": "81f95e22",
   "metadata": {},
   "outputs": [
    {
     "name": "stdout",
     "output_type": "stream",
     "text": [
      "Requirement already satisfied: langchain-ollama in c:\\users\\surya\\anaconda3\\envs\\llms\\lib\\site-packages (0.3.3)\n",
      "Requirement already satisfied: ollama<1.0.0,>=0.4.8 in c:\\users\\surya\\anaconda3\\envs\\llms\\lib\\site-packages (from langchain-ollama) (0.4.8)\n",
      "Requirement already satisfied: langchain-core<1.0.0,>=0.3.60 in c:\\users\\surya\\anaconda3\\envs\\llms\\lib\\site-packages (from langchain-ollama) (0.3.60)\n",
      "Requirement already satisfied: langsmith<0.4,>=0.1.126 in c:\\users\\surya\\anaconda3\\envs\\llms\\lib\\site-packages (from langchain-core<1.0.0,>=0.3.60->langchain-ollama) (0.3.42)\n",
      "Requirement already satisfied: tenacity!=8.4.0,<10.0.0,>=8.1.0 in c:\\users\\surya\\anaconda3\\envs\\llms\\lib\\site-packages (from langchain-core<1.0.0,>=0.3.60->langchain-ollama) (9.1.2)\n",
      "Requirement already satisfied: jsonpatch<2.0,>=1.33 in c:\\users\\surya\\anaconda3\\envs\\llms\\lib\\site-packages (from langchain-core<1.0.0,>=0.3.60->langchain-ollama) (1.33)\n",
      "Requirement already satisfied: PyYAML>=5.3 in c:\\users\\surya\\anaconda3\\envs\\llms\\lib\\site-packages (from langchain-core<1.0.0,>=0.3.60->langchain-ollama) (6.0.2)\n",
      "Requirement already satisfied: packaging<25,>=23.2 in c:\\users\\surya\\anaconda3\\envs\\llms\\lib\\site-packages (from langchain-core<1.0.0,>=0.3.60->langchain-ollama) (24.2)\n",
      "Requirement already satisfied: typing-extensions>=4.7 in c:\\users\\surya\\anaconda3\\envs\\llms\\lib\\site-packages (from langchain-core<1.0.0,>=0.3.60->langchain-ollama) (4.13.2)\n",
      "Requirement already satisfied: pydantic>=2.7.4 in c:\\users\\surya\\anaconda3\\envs\\llms\\lib\\site-packages (from langchain-core<1.0.0,>=0.3.60->langchain-ollama) (2.11.4)\n",
      "Requirement already satisfied: jsonpointer>=1.9 in c:\\users\\surya\\anaconda3\\envs\\llms\\lib\\site-packages (from jsonpatch<2.0,>=1.33->langchain-core<1.0.0,>=0.3.60->langchain-ollama) (3.0.0)\n",
      "Requirement already satisfied: httpx<1,>=0.23.0 in c:\\users\\surya\\anaconda3\\envs\\llms\\lib\\site-packages (from langsmith<0.4,>=0.1.126->langchain-core<1.0.0,>=0.3.60->langchain-ollama) (0.28.1)\n",
      "Requirement already satisfied: orjson<4.0.0,>=3.9.14 in c:\\users\\surya\\anaconda3\\envs\\llms\\lib\\site-packages (from langsmith<0.4,>=0.1.126->langchain-core<1.0.0,>=0.3.60->langchain-ollama) (3.10.18)\n",
      "Requirement already satisfied: requests<3,>=2 in c:\\users\\surya\\anaconda3\\envs\\llms\\lib\\site-packages (from langsmith<0.4,>=0.1.126->langchain-core<1.0.0,>=0.3.60->langchain-ollama) (2.32.3)\n",
      "Requirement already satisfied: requests-toolbelt<2.0.0,>=1.0.0 in c:\\users\\surya\\anaconda3\\envs\\llms\\lib\\site-packages (from langsmith<0.4,>=0.1.126->langchain-core<1.0.0,>=0.3.60->langchain-ollama) (1.0.0)\n",
      "Requirement already satisfied: zstandard<0.24.0,>=0.23.0 in c:\\users\\surya\\anaconda3\\envs\\llms\\lib\\site-packages (from langsmith<0.4,>=0.1.126->langchain-core<1.0.0,>=0.3.60->langchain-ollama) (0.23.0)\n",
      "Requirement already satisfied: anyio in c:\\users\\surya\\anaconda3\\envs\\llms\\lib\\site-packages (from httpx<1,>=0.23.0->langsmith<0.4,>=0.1.126->langchain-core<1.0.0,>=0.3.60->langchain-ollama) (4.9.0)\n",
      "Requirement already satisfied: certifi in c:\\users\\surya\\anaconda3\\envs\\llms\\lib\\site-packages (from httpx<1,>=0.23.0->langsmith<0.4,>=0.1.126->langchain-core<1.0.0,>=0.3.60->langchain-ollama) (2025.4.26)\n",
      "Requirement already satisfied: httpcore==1.* in c:\\users\\surya\\anaconda3\\envs\\llms\\lib\\site-packages (from httpx<1,>=0.23.0->langsmith<0.4,>=0.1.126->langchain-core<1.0.0,>=0.3.60->langchain-ollama) (1.0.9)\n",
      "Requirement already satisfied: idna in c:\\users\\surya\\anaconda3\\envs\\llms\\lib\\site-packages (from httpx<1,>=0.23.0->langsmith<0.4,>=0.1.126->langchain-core<1.0.0,>=0.3.60->langchain-ollama) (3.10)\n",
      "Requirement already satisfied: h11>=0.16 in c:\\users\\surya\\anaconda3\\envs\\llms\\lib\\site-packages (from httpcore==1.*->httpx<1,>=0.23.0->langsmith<0.4,>=0.1.126->langchain-core<1.0.0,>=0.3.60->langchain-ollama) (0.16.0)\n",
      "Requirement already satisfied: annotated-types>=0.6.0 in c:\\users\\surya\\anaconda3\\envs\\llms\\lib\\site-packages (from pydantic>=2.7.4->langchain-core<1.0.0,>=0.3.60->langchain-ollama) (0.7.0)\n",
      "Requirement already satisfied: pydantic-core==2.33.2 in c:\\users\\surya\\anaconda3\\envs\\llms\\lib\\site-packages (from pydantic>=2.7.4->langchain-core<1.0.0,>=0.3.60->langchain-ollama) (2.33.2)\n",
      "Requirement already satisfied: typing-inspection>=0.4.0 in c:\\users\\surya\\anaconda3\\envs\\llms\\lib\\site-packages (from pydantic>=2.7.4->langchain-core<1.0.0,>=0.3.60->langchain-ollama) (0.4.0)\n",
      "Requirement already satisfied: charset_normalizer<4,>=2 in c:\\users\\surya\\anaconda3\\envs\\llms\\lib\\site-packages (from requests<3,>=2->langsmith<0.4,>=0.1.126->langchain-core<1.0.0,>=0.3.60->langchain-ollama) (3.4.2)\n",
      "Requirement already satisfied: urllib3<3,>=1.21.1 in c:\\users\\surya\\anaconda3\\envs\\llms\\lib\\site-packages (from requests<3,>=2->langsmith<0.4,>=0.1.126->langchain-core<1.0.0,>=0.3.60->langchain-ollama) (2.4.0)\n",
      "Requirement already satisfied: sniffio>=1.1 in c:\\users\\surya\\anaconda3\\envs\\llms\\lib\\site-packages (from anyio->httpx<1,>=0.23.0->langsmith<0.4,>=0.1.126->langchain-core<1.0.0,>=0.3.60->langchain-ollama) (1.3.1)\n"
     ]
    }
   ],
   "source": [
    "!pip install -U langchain-ollama"
   ]
  },
  {
   "cell_type": "code",
   "execution_count": 38,
   "id": "7af13ef1",
   "metadata": {},
   "outputs": [
    {
     "name": "stdout",
     "output_type": "stream",
     "text": [
      "Requirement already satisfied: pymupdf in c:\\users\\surya\\anaconda3\\envs\\llms\\lib\\site-packages (1.26.0)\n"
     ]
    }
   ],
   "source": [
    "!pip install pymupdf"
   ]
  },
  {
   "cell_type": "code",
   "execution_count": 40,
   "id": "45126853",
   "metadata": {},
   "outputs": [
    {
     "name": "stdout",
     "output_type": "stream",
     "text": [
      "Requirement already satisfied: langchain-ollama in c:\\users\\surya\\anaconda3\\envs\\llms\\lib\\site-packages (0.3.3)\n",
      "Requirement already satisfied: ollama<1.0.0,>=0.4.8 in c:\\users\\surya\\anaconda3\\envs\\llms\\lib\\site-packages (from langchain-ollama) (0.4.8)\n",
      "Requirement already satisfied: langchain-core<1.0.0,>=0.3.60 in c:\\users\\surya\\anaconda3\\envs\\llms\\lib\\site-packages (from langchain-ollama) (0.3.60)\n",
      "Requirement already satisfied: langsmith<0.4,>=0.1.126 in c:\\users\\surya\\anaconda3\\envs\\llms\\lib\\site-packages (from langchain-core<1.0.0,>=0.3.60->langchain-ollama) (0.3.42)\n",
      "Requirement already satisfied: tenacity!=8.4.0,<10.0.0,>=8.1.0 in c:\\users\\surya\\anaconda3\\envs\\llms\\lib\\site-packages (from langchain-core<1.0.0,>=0.3.60->langchain-ollama) (9.1.2)\n",
      "Requirement already satisfied: jsonpatch<2.0,>=1.33 in c:\\users\\surya\\anaconda3\\envs\\llms\\lib\\site-packages (from langchain-core<1.0.0,>=0.3.60->langchain-ollama) (1.33)\n",
      "Requirement already satisfied: PyYAML>=5.3 in c:\\users\\surya\\anaconda3\\envs\\llms\\lib\\site-packages (from langchain-core<1.0.0,>=0.3.60->langchain-ollama) (6.0.2)\n",
      "Requirement already satisfied: packaging<25,>=23.2 in c:\\users\\surya\\anaconda3\\envs\\llms\\lib\\site-packages (from langchain-core<1.0.0,>=0.3.60->langchain-ollama) (24.2)\n",
      "Requirement already satisfied: typing-extensions>=4.7 in c:\\users\\surya\\anaconda3\\envs\\llms\\lib\\site-packages (from langchain-core<1.0.0,>=0.3.60->langchain-ollama) (4.13.2)\n",
      "Requirement already satisfied: pydantic>=2.7.4 in c:\\users\\surya\\anaconda3\\envs\\llms\\lib\\site-packages (from langchain-core<1.0.0,>=0.3.60->langchain-ollama) (2.11.4)\n",
      "Requirement already satisfied: jsonpointer>=1.9 in c:\\users\\surya\\anaconda3\\envs\\llms\\lib\\site-packages (from jsonpatch<2.0,>=1.33->langchain-core<1.0.0,>=0.3.60->langchain-ollama) (3.0.0)\n",
      "Requirement already satisfied: httpx<1,>=0.23.0 in c:\\users\\surya\\anaconda3\\envs\\llms\\lib\\site-packages (from langsmith<0.4,>=0.1.126->langchain-core<1.0.0,>=0.3.60->langchain-ollama) (0.28.1)\n",
      "Requirement already satisfied: orjson<4.0.0,>=3.9.14 in c:\\users\\surya\\anaconda3\\envs\\llms\\lib\\site-packages (from langsmith<0.4,>=0.1.126->langchain-core<1.0.0,>=0.3.60->langchain-ollama) (3.10.18)\n",
      "Requirement already satisfied: requests<3,>=2 in c:\\users\\surya\\anaconda3\\envs\\llms\\lib\\site-packages (from langsmith<0.4,>=0.1.126->langchain-core<1.0.0,>=0.3.60->langchain-ollama) (2.32.3)\n",
      "Requirement already satisfied: requests-toolbelt<2.0.0,>=1.0.0 in c:\\users\\surya\\anaconda3\\envs\\llms\\lib\\site-packages (from langsmith<0.4,>=0.1.126->langchain-core<1.0.0,>=0.3.60->langchain-ollama) (1.0.0)\n",
      "Requirement already satisfied: zstandard<0.24.0,>=0.23.0 in c:\\users\\surya\\anaconda3\\envs\\llms\\lib\\site-packages (from langsmith<0.4,>=0.1.126->langchain-core<1.0.0,>=0.3.60->langchain-ollama) (0.23.0)\n",
      "Requirement already satisfied: anyio in c:\\users\\surya\\anaconda3\\envs\\llms\\lib\\site-packages (from httpx<1,>=0.23.0->langsmith<0.4,>=0.1.126->langchain-core<1.0.0,>=0.3.60->langchain-ollama) (4.9.0)\n",
      "Requirement already satisfied: certifi in c:\\users\\surya\\anaconda3\\envs\\llms\\lib\\site-packages (from httpx<1,>=0.23.0->langsmith<0.4,>=0.1.126->langchain-core<1.0.0,>=0.3.60->langchain-ollama) (2025.4.26)\n",
      "Requirement already satisfied: httpcore==1.* in c:\\users\\surya\\anaconda3\\envs\\llms\\lib\\site-packages (from httpx<1,>=0.23.0->langsmith<0.4,>=0.1.126->langchain-core<1.0.0,>=0.3.60->langchain-ollama) (1.0.9)\n",
      "Requirement already satisfied: idna in c:\\users\\surya\\anaconda3\\envs\\llms\\lib\\site-packages (from httpx<1,>=0.23.0->langsmith<0.4,>=0.1.126->langchain-core<1.0.0,>=0.3.60->langchain-ollama) (3.10)\n",
      "Requirement already satisfied: h11>=0.16 in c:\\users\\surya\\anaconda3\\envs\\llms\\lib\\site-packages (from httpcore==1.*->httpx<1,>=0.23.0->langsmith<0.4,>=0.1.126->langchain-core<1.0.0,>=0.3.60->langchain-ollama) (0.16.0)\n",
      "Requirement already satisfied: annotated-types>=0.6.0 in c:\\users\\surya\\anaconda3\\envs\\llms\\lib\\site-packages (from pydantic>=2.7.4->langchain-core<1.0.0,>=0.3.60->langchain-ollama) (0.7.0)\n",
      "Requirement already satisfied: pydantic-core==2.33.2 in c:\\users\\surya\\anaconda3\\envs\\llms\\lib\\site-packages (from pydantic>=2.7.4->langchain-core<1.0.0,>=0.3.60->langchain-ollama) (2.33.2)\n",
      "Requirement already satisfied: typing-inspection>=0.4.0 in c:\\users\\surya\\anaconda3\\envs\\llms\\lib\\site-packages (from pydantic>=2.7.4->langchain-core<1.0.0,>=0.3.60->langchain-ollama) (0.4.0)\n",
      "Requirement already satisfied: charset_normalizer<4,>=2 in c:\\users\\surya\\anaconda3\\envs\\llms\\lib\\site-packages (from requests<3,>=2->langsmith<0.4,>=0.1.126->langchain-core<1.0.0,>=0.3.60->langchain-ollama) (3.4.2)\n",
      "Requirement already satisfied: urllib3<3,>=1.21.1 in c:\\users\\surya\\anaconda3\\envs\\llms\\lib\\site-packages (from requests<3,>=2->langsmith<0.4,>=0.1.126->langchain-core<1.0.0,>=0.3.60->langchain-ollama) (2.4.0)\n",
      "Requirement already satisfied: sniffio>=1.1 in c:\\users\\surya\\anaconda3\\envs\\llms\\lib\\site-packages (from anyio->httpx<1,>=0.23.0->langsmith<0.4,>=0.1.126->langchain-core<1.0.0,>=0.3.60->langchain-ollama) (1.3.1)\n"
     ]
    }
   ],
   "source": [
    "!pip install -U langchain-ollama"
   ]
  },
  {
   "cell_type": "code",
   "execution_count": 54,
   "id": "6cfdfb24",
   "metadata": {},
   "outputs": [
    {
     "name": "stdout",
     "output_type": "stream",
     "text": [
      "Collecting git+https://github.com/openai/whisper.git\n",
      "  Cloning https://github.com/openai/whisper.git to c:\\users\\surya\\appdata\\local\\temp\\pip-req-build-9tkyt4ao\n",
      "  Resolved https://github.com/openai/whisper.git to commit dd985ac4b90cafeef8712f2998d62c59c3e62d22\n",
      "  Installing build dependencies: started\n",
      "  Installing build dependencies: finished with status 'done'\n",
      "  Getting requirements to build wheel: started\n",
      "  Getting requirements to build wheel: finished with status 'done'\n",
      "  Preparing metadata (pyproject.toml): started\n",
      "  Preparing metadata (pyproject.toml): finished with status 'done'\n",
      "Requirement already satisfied: more-itertools in c:\\users\\surya\\anaconda3\\envs\\llms\\lib\\site-packages (from openai-whisper==20240930) (10.7.0)\n",
      "Requirement already satisfied: numba in c:\\users\\surya\\anaconda3\\envs\\llms\\lib\\site-packages (from openai-whisper==20240930) (0.61.2)\n",
      "Requirement already satisfied: numpy in c:\\users\\surya\\anaconda3\\envs\\llms\\lib\\site-packages (from openai-whisper==20240930) (1.26.4)\n",
      "Requirement already satisfied: tiktoken in c:\\users\\surya\\anaconda3\\envs\\llms\\lib\\site-packages (from openai-whisper==20240930) (0.9.0)\n",
      "Requirement already satisfied: torch in c:\\users\\surya\\anaconda3\\envs\\llms\\lib\\site-packages (from openai-whisper==20240930) (2.7.0)\n",
      "Requirement already satisfied: tqdm in c:\\users\\surya\\anaconda3\\envs\\llms\\lib\\site-packages (from openai-whisper==20240930) (4.67.1)\n",
      "Requirement already satisfied: llvmlite<0.45,>=0.44.0dev0 in c:\\users\\surya\\anaconda3\\envs\\llms\\lib\\site-packages (from numba->openai-whisper==20240930) (0.44.0)\n",
      "Requirement already satisfied: regex>=2022.1.18 in c:\\users\\surya\\anaconda3\\envs\\llms\\lib\\site-packages (from tiktoken->openai-whisper==20240930) (2024.11.6)\n",
      "Requirement already satisfied: requests>=2.26.0 in c:\\users\\surya\\anaconda3\\envs\\llms\\lib\\site-packages (from tiktoken->openai-whisper==20240930) (2.32.3)\n",
      "Requirement already satisfied: charset_normalizer<4,>=2 in c:\\users\\surya\\anaconda3\\envs\\llms\\lib\\site-packages (from requests>=2.26.0->tiktoken->openai-whisper==20240930) (3.4.2)\n",
      "Requirement already satisfied: idna<4,>=2.5 in c:\\users\\surya\\anaconda3\\envs\\llms\\lib\\site-packages (from requests>=2.26.0->tiktoken->openai-whisper==20240930) (3.10)\n",
      "Requirement already satisfied: urllib3<3,>=1.21.1 in c:\\users\\surya\\anaconda3\\envs\\llms\\lib\\site-packages (from requests>=2.26.0->tiktoken->openai-whisper==20240930) (2.4.0)\n",
      "Requirement already satisfied: certifi>=2017.4.17 in c:\\users\\surya\\anaconda3\\envs\\llms\\lib\\site-packages (from requests>=2.26.0->tiktoken->openai-whisper==20240930) (2025.4.26)\n",
      "Requirement already satisfied: filelock in c:\\users\\surya\\anaconda3\\envs\\llms\\lib\\site-packages (from torch->openai-whisper==20240930) (3.18.0)\n",
      "Requirement already satisfied: typing-extensions>=4.10.0 in c:\\users\\surya\\anaconda3\\envs\\llms\\lib\\site-packages (from torch->openai-whisper==20240930) (4.13.2)\n",
      "Requirement already satisfied: sympy>=1.13.3 in c:\\users\\surya\\anaconda3\\envs\\llms\\lib\\site-packages (from torch->openai-whisper==20240930) (1.14.0)\n",
      "Requirement already satisfied: networkx in c:\\users\\surya\\anaconda3\\envs\\llms\\lib\\site-packages (from torch->openai-whisper==20240930) (3.4.2)\n",
      "Requirement already satisfied: jinja2 in c:\\users\\surya\\anaconda3\\envs\\llms\\lib\\site-packages (from torch->openai-whisper==20240930) (3.1.6)\n",
      "Requirement already satisfied: fsspec in c:\\users\\surya\\anaconda3\\envs\\llms\\lib\\site-packages (from torch->openai-whisper==20240930) (2025.3.0)\n",
      "Requirement already satisfied: mpmath<1.4,>=1.1.0 in c:\\users\\surya\\anaconda3\\envs\\llms\\lib\\site-packages (from sympy>=1.13.3->torch->openai-whisper==20240930) (1.3.0)\n",
      "Requirement already satisfied: MarkupSafe>=2.0 in c:\\users\\surya\\anaconda3\\envs\\llms\\lib\\site-packages (from jinja2->torch->openai-whisper==20240930) (3.0.2)\n",
      "Requirement already satisfied: colorama in c:\\users\\surya\\appdata\\roaming\\python\\python311\\site-packages (from tqdm->openai-whisper==20240930) (0.4.6)\n"
     ]
    },
    {
     "name": "stderr",
     "output_type": "stream",
     "text": [
      "  Running command git clone --filter=blob:none --quiet https://github.com/openai/whisper.git 'C:\\Users\\surya\\AppData\\Local\\Temp\\pip-req-build-9tkyt4ao'\n"
     ]
    }
   ],
   "source": [
    "! pip install git+https://github.com/openai/whisper.git"
   ]
  },
  {
   "cell_type": "code",
   "execution_count": null,
   "id": "5c031ecd",
   "metadata": {},
   "outputs": [],
   "source": [
    "import whisper\n",
    "def speech_text(audio):\n",
    "    if audio:\n",
    "        print(audio)\n",
    "    model=whisper.load_model(\"base\")\n",
    "    result=model.transcribe(audio)\n",
    "    return result[\"text\"]\n"
   ]
  },
  {
   "cell_type": "code",
   "execution_count": 39,
   "id": "f2714a8b",
   "metadata": {},
   "outputs": [],
   "source": [
    "db_name=\"vector_db\""
   ]
  },
  {
   "cell_type": "code",
   "execution_count": 51,
   "id": "be38dd8e",
   "metadata": {},
   "outputs": [],
   "source": [
    "import gradio as gr\n",
    "import os\n",
    "import shutil\n",
    "from langchain.document_loaders import PyMuPDFLoader\n",
    "from langchain_ollama import ChatOllama\n",
    "\n",
    "conversation_chain=None\n",
    "def process_pdf(pdf_file):\n",
    "    global conversation_chain\n",
    "    UPLOAD_FOLDER = \"./data\"\n",
    "    if os.path.exists(UPLOAD_FOLDER):\n",
    "        for filename in os.listdir(UPLOAD_FOLDER):\n",
    "            filepath=os.path.join(UPLOAD_FOLDER,filename)\n",
    "            if os.path.isfile(filepath) or os.path.islink(filepath):\n",
    "                os.remove(filepath)\n",
    "    else:\n",
    "        os.mkdir(UPLOAD_FOLDER)\n",
    "\n",
    "    \n",
    "    shutil.copy(pdf_file.name, UPLOAD_FOLDER)\n",
    "    saved_path = os.path.join(UPLOAD_FOLDER, os.path.basename(pdf_file.name))\n",
    "    # print(saved_path,os.path.basename(pdf_file.name))\n",
    "    loader = PyMuPDFLoader(saved_path)\n",
    "    documents = loader.load()  \n",
    "    text_splitter = CharacterTextSplitter(chunk_size=10000, chunk_overlap=1000)\n",
    "    chunks = text_splitter.split_documents(documents)\n",
    "    embeddings=HuggingFaceEmbeddings(model_name=\"sentence-transformers/all-MiniLM-L6-v2\")\n",
    "    if os.path.exists(db_name):\n",
    "        Chroma(persist_directory=db_name,embedding_function=embeddings).delete_collection()\n",
    "    vectorstore=Chroma.from_documents(documents=chunks,embedding=embeddings,persist_directory=db_name)\n",
    "    llm=ChatOllama(model=\"llama3.2\",temperature=0.7)\n",
    "    memory=ConversationBufferMemory(memory_key=\"chat_history\",return_messages=True)\n",
    "    retriever=vectorstore.as_retriever()\n",
    "    conversation_chain=ConversationalRetrievalChain.from_llm(llm=llm,retriever=retriever,memory=memory)\n",
    "    return \"✅ PDF processed and QA system ready! You can now ask questions.\"\n",
    "\n",
    "    \n",
    "\n",
    "\n"
   ]
  },
  {
   "cell_type": "code",
   "execution_count": 77,
   "id": "d9f3f4e2",
   "metadata": {},
   "outputs": [
    {
     "name": "stderr",
     "output_type": "stream",
     "text": [
      "c:\\Users\\surya\\anaconda3\\envs\\llms\\Lib\\site-packages\\gradio\\utils.py:1023: UserWarning: Expected 2 arguments for function <function chat at 0x00000168141F3F60>, received 1.\n",
      "  warnings.warn(\n",
      "c:\\Users\\surya\\anaconda3\\envs\\llms\\Lib\\site-packages\\gradio\\utils.py:1027: UserWarning: Expected at least 2 arguments for function <function chat at 0x00000168141F3F60>, received 1.\n",
      "  warnings.warn(\n"
     ]
    },
    {
     "name": "stdout",
     "output_type": "stream",
     "text": [
      "* Running on local URL:  http://127.0.0.1:7897\n",
      "* Running on public URL: https://4c6adf3a4d6c368e43.gradio.live\n",
      "\n",
      "This share link expires in 1 week. For free permanent hosting and GPU upgrades, run `gradio deploy` from the terminal in the working directory to deploy to Hugging Face Spaces (https://huggingface.co/spaces)\n"
     ]
    },
    {
     "data": {
      "text/html": [
       "<div><iframe src=\"https://4c6adf3a4d6c368e43.gradio.live\" width=\"100%\" height=\"500\" allow=\"autoplay; camera; microphone; clipboard-read; clipboard-write;\" frameborder=\"0\" allowfullscreen></iframe></div>"
      ],
      "text/plain": [
       "<IPython.core.display.HTML object>"
      ]
     },
     "metadata": {},
     "output_type": "display_data"
    },
    {
     "data": {
      "text/plain": []
     },
     "execution_count": 77,
     "metadata": {},
     "output_type": "execute_result"
    }
   ],
   "source": [
    "def chat(message,history):\n",
    "    global conversation_chain\n",
    "    result=conversation_chain.invoke({\"question\":message})\n",
    "    return result[\"answer\"]\n",
    "with gr.Blocks() as demo:\n",
    "    gr.Markdown(\"## 📄 Upload PDF & Ask Questions\")\n",
    "\n",
    "    pdf_input = gr.File(label=\"Upload PDF\", file_types=[\".pdf\"])\n",
    "    upload_status = gr.Textbox(label=\"Status\", interactive=False)\n",
    "    gr.Markdown(\"## You can either speek or type your question\")\n",
    "    question_audio=gr.Audio(sources=\"microphone\",type=\"filepath\")\n",
    "    transcribe=gr.Button(\"Transcribe\")\n",
    "    question_input = gr.Textbox(label=\"Your Question\")\n",
    "    transcribe.click(fn=speech_text,inputs=question_audio,outputs=question_input)\n",
    "    answer_output = gr.Textbox(label=\"Answer\", interactive=False, lines=5)\n",
    "\n",
    "    ask_button = gr.Button(\"Ask\")\n",
    "\n",
    "    pdf_input.change(fn=process_pdf, inputs=pdf_input, outputs=upload_status)\n",
    "    ask_button.click(fn=chat, inputs=question_input, outputs=answer_output)\n",
    "\n",
    "demo.launch(inbrowser=True,share=True)\n"
   ]
  },
  {
   "cell_type": "code",
   "execution_count": null,
   "id": "608f6fe3",
   "metadata": {},
   "outputs": [],
   "source": []
  },
  {
   "cell_type": "code",
   "execution_count": null,
   "id": "6b78377c",
   "metadata": {},
   "outputs": [],
   "source": []
  },
  {
   "cell_type": "code",
   "execution_count": null,
   "id": "a6a97d2b",
   "metadata": {},
   "outputs": [],
   "source": []
  },
  {
   "cell_type": "code",
   "execution_count": null,
   "id": "fad94690",
   "metadata": {},
   "outputs": [],
   "source": []
  },
  {
   "cell_type": "code",
   "execution_count": null,
   "id": "74a643d6",
   "metadata": {},
   "outputs": [],
   "source": []
  },
  {
   "cell_type": "code",
   "execution_count": null,
   "id": "7cf26dcd",
   "metadata": {},
   "outputs": [],
   "source": []
  },
  {
   "cell_type": "code",
   "execution_count": null,
   "id": "ddff1065",
   "metadata": {},
   "outputs": [],
   "source": []
  },
  {
   "cell_type": "code",
   "execution_count": null,
   "id": "e680b807",
   "metadata": {},
   "outputs": [],
   "source": []
  },
  {
   "cell_type": "code",
   "execution_count": null,
   "id": "57ddac9b",
   "metadata": {},
   "outputs": [],
   "source": []
  },
  {
   "cell_type": "code",
   "execution_count": null,
   "id": "bc917444",
   "metadata": {},
   "outputs": [],
   "source": []
  },
  {
   "cell_type": "code",
   "execution_count": null,
   "id": "75b111b7",
   "metadata": {},
   "outputs": [],
   "source": []
  }
 ],
 "metadata": {
  "kernelspec": {
   "display_name": "llms",
   "language": "python",
   "name": "python3"
  },
  "language_info": {
   "codemirror_mode": {
    "name": "ipython",
    "version": 3
   },
   "file_extension": ".py",
   "mimetype": "text/x-python",
   "name": "python",
   "nbconvert_exporter": "python",
   "pygments_lexer": "ipython3",
   "version": "3.11.12"
  }
 },
 "nbformat": 4,
 "nbformat_minor": 5
}
